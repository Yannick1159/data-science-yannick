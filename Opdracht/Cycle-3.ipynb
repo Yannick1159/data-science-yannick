{
 "cells": [
  {
   "metadata": {
    "ExecuteTime": {
     "end_time": "2025-05-09T09:43:51.904185Z",
     "start_time": "2025-05-09T09:43:51.888812Z"
    }
   },
   "cell_type": "code",
   "source": [
    "# Aanpassing van de configuratie van Jupyter Notebook\n",
    "%config IPCompleter.greedy = True\n",
    "%matplotlib inline\n",
    "\n",
    "# Importeren van de benodigde bibliotheken\n",
    "import pandas as pd\n",
    "import numpy as np\n",
    "import matplotlib.pyplot as plt\n",
    "import seaborn as sns"
   ],
   "id": "14fb3bf8020a0b8c",
   "outputs": [],
   "execution_count": 1
  },
  {
   "metadata": {
    "ExecuteTime": {
     "end_time": "2025-05-09T09:44:37.715901Z",
     "start_time": "2025-05-09T09:44:37.420390Z"
    }
   },
   "cell_type": "code",
   "source": [
    "# Source pad van de dataset definiëren\n",
    "orderData_source = 'Data/Knipidee-2024.csv'\n",
    "\n",
    "# Dataset ophalen\n",
    "orderData=pd.read_csv(orderData_source)\n",
    "\n",
    "# Preview weergave van de eerste 5 rijen van de dataset\n",
    "print('-----Preview van de dataset-----')\n",
    "print(orderData.head())\n",
    "print('-----Informatie over de dataset-----')\n",
    "print(orderData.info())"
   ],
   "id": "a5f9b2694d5a8b17",
   "outputs": [
    {
     "name": "stdout",
     "output_type": "stream",
     "text": [
      "-----Preview van de dataset-----\n",
      "   order_number               order_date  customer_number    customer_email  \\\n",
      "0         30617  2024-06-21 11:54:57.688              921  sven@cyroline.de   \n",
      "1         30617  2024-06-21 11:54:57.688              921  sven@cyroline.de   \n",
      "2         30617  2024-06-21 11:54:57.688              921  sven@cyroline.de   \n",
      "3         30617  2024-06-21 11:54:57.688              921  sven@cyroline.de   \n",
      "4         30617  2024-06-21 11:54:57.688              921  sven@cyroline.de   \n",
      "\n",
      "      address_street address_zipcode address_city address_country_name  \\\n",
      "0  KRONSFORDER ALLEE           23560       Lübeck                   DE   \n",
      "1  KRONSFORDER ALLEE           23560       Lübeck                   DE   \n",
      "2  KRONSFORDER ALLEE           23560       Lübeck                   DE   \n",
      "3  KRONSFORDER ALLEE           23560       Lübeck                   DE   \n",
      "4  KRONSFORDER ALLEE           23560       Lübeck                   DE   \n",
      "\n",
      "                      product_name  product_quantity  product_quantity.1  \\\n",
      "0      0817 Cotton Knit Small Cord                 1                   1   \n",
      "1  0779 Corduroy 6W Washed Stretch                 2                   2   \n",
      "2  0779 Corduroy 6W Washed Stretch                 1                   1   \n",
      "3      20249 Paisley Flower Velvet                 3                   3   \n",
      "4         19551 Smogged Embroidery                 5                   5   \n",
      "\n",
      "   product_unit_price  product_total_price  \n",
      "0              343.75               343.75  \n",
      "1              260.00               520.00  \n",
      "2               78.00                78.00  \n",
      "3              247.50               742.50  \n",
      "4              237.50              1187.50  \n",
      "-----Informatie over de dataset-----\n",
      "<class 'pandas.core.frame.DataFrame'>\n",
      "RangeIndex: 76201 entries, 0 to 76200\n",
      "Data columns (total 13 columns):\n",
      " #   Column                Non-Null Count  Dtype  \n",
      "---  ------                --------------  -----  \n",
      " 0   order_number          76201 non-null  int64  \n",
      " 1   order_date            76201 non-null  object \n",
      " 2   customer_number       76201 non-null  int64  \n",
      " 3   customer_email        76201 non-null  object \n",
      " 4   address_street        76201 non-null  object \n",
      " 5   address_zipcode       76201 non-null  object \n",
      " 6   address_city          76201 non-null  object \n",
      " 7   address_country_name  76201 non-null  object \n",
      " 8   product_name          76201 non-null  object \n",
      " 9   product_quantity      76201 non-null  int64  \n",
      " 10  product_quantity.1    76201 non-null  int64  \n",
      " 11  product_unit_price    76201 non-null  float64\n",
      " 12  product_total_price   76201 non-null  float64\n",
      "dtypes: float64(2), int64(4), object(7)\n",
      "memory usage: 7.6+ MB\n",
      "None\n"
     ]
    }
   ],
   "execution_count": 3
  },
  {
   "metadata": {},
   "cell_type": "code",
   "outputs": [],
   "execution_count": null,
   "source": "",
   "id": "a0468055e0338b9c"
  }
 ],
 "metadata": {
  "kernelspec": {
   "name": "python3",
   "language": "python",
   "display_name": "Python 3 (ipykernel)"
  }
 },
 "nbformat": 5,
 "nbformat_minor": 9
}
