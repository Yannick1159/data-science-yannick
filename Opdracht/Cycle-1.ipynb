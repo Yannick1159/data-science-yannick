{
 "cells": [
  {
   "metadata": {
    "ExecuteTime": {
     "end_time": "2025-05-19T19:07:54.576205Z",
     "start_time": "2025-05-19T19:07:54.569451Z"
    }
   },
   "cell_type": "code",
   "source": [
    "# Aanpassing van de configuratie van Jupyter Notebook\n",
    "%config IPCompleter.greedy = True\n",
    "%matplotlib inline\n",
    "\n",
    "# Importeren van de benodigde bibliotheken\n",
    "import pandas as pd\n",
    "import numpy as np\n",
    "import matplotlib.pyplot as plt\n",
    "import seaborn as sns"
   ],
   "id": "9861eff0f1cd4f66",
   "outputs": [],
   "execution_count": 7
  },
  {
   "metadata": {
    "ExecuteTime": {
     "end_time": "2025-05-19T19:09:14.136905Z",
     "start_time": "2025-05-19T19:09:13.686297Z"
    }
   },
   "cell_type": "code",
   "source": [
    "# Source pad van de dataset definiëren\n",
    "orderData_source = 'Data/Knipidee2024.csv'\n",
    "\n",
    "# Dataset ophalen\n",
    "orderData=pd.read_csv(orderData_source)\n",
    "\n",
    "print('-----Informatie over de dataset-----')\n",
    "display(orderData.info())"
   ],
   "id": "9f7946fdb3c6ba6b",
   "outputs": [
    {
     "name": "stdout",
     "output_type": "stream",
     "text": [
      "-----Informatie over de dataset-----\n",
      "<class 'pandas.core.frame.DataFrame'>\n",
      "RangeIndex: 76201 entries, 0 to 76200\n",
      "Data columns (total 14 columns):\n",
      " #   Column                Non-Null Count  Dtype  \n",
      "---  ------                --------------  -----  \n",
      " 0   order_number          76201 non-null  int64  \n",
      " 1   order_date            76201 non-null  object \n",
      " 2   customer_number       76201 non-null  int64  \n",
      " 3   customer_email        76201 non-null  object \n",
      " 4   address_street        76201 non-null  object \n",
      " 5   address_zipcode       76201 non-null  object \n",
      " 6   address_city          76201 non-null  object \n",
      " 7   address_country_name  76201 non-null  object \n",
      " 8   product_name          76201 non-null  object \n",
      " 9   product_quantity      76201 non-null  int64  \n",
      " 10  product_quantity.1    76201 non-null  int64  \n",
      " 11  product_unit_price    76201 non-null  float64\n",
      " 12  product_total_price   76201 non-null  float64\n",
      " 13  category_names        73040 non-null  object \n",
      "dtypes: float64(2), int64(4), object(8)\n",
      "memory usage: 8.1+ MB\n"
     ]
    },
    {
     "data": {
      "text/plain": [
       "None"
      ]
     },
     "metadata": {},
     "output_type": "display_data"
    }
   ],
   "execution_count": 14
  },
  {
   "metadata": {
    "ExecuteTime": {
     "end_time": "2025-05-19T19:09:00.996181Z",
     "start_time": "2025-05-19T19:09:00.985607Z"
    }
   },
   "cell_type": "code",
   "source": [
    "# Preview weergave van de eerste 5 rijen van de dataset\n",
    "print('-----Preview van de dataset-----')\n",
    "display(orderData.head())"
   ],
   "id": "73a58139a1e39ac5",
   "outputs": [
    {
     "name": "stdout",
     "output_type": "stream",
     "text": [
      "-----Preview van de dataset-----\n"
     ]
    },
    {
     "data": {
      "text/plain": [
       "   order_number               order_date  customer_number    customer_email  \\\n",
       "0         30617  2024-06-21 11:54:57.688              921  sven@cyroline.de   \n",
       "1         30617  2024-06-21 11:54:57.688              921  sven@cyroline.de   \n",
       "2         30617  2024-06-21 11:54:57.688              921  sven@cyroline.de   \n",
       "3         30617  2024-06-21 11:54:57.688              921  sven@cyroline.de   \n",
       "4         30617  2024-06-21 11:54:57.688              921  sven@cyroline.de   \n",
       "\n",
       "      address_street address_zipcode address_city address_country_name  \\\n",
       "0  KRONSFORDER ALLEE           23560       Lübeck                   DE   \n",
       "1  KRONSFORDER ALLEE           23560       Lübeck                   DE   \n",
       "2  KRONSFORDER ALLEE           23560       Lübeck                   DE   \n",
       "3  KRONSFORDER ALLEE           23560       Lübeck                   DE   \n",
       "4  KRONSFORDER ALLEE           23560       Lübeck                   DE   \n",
       "\n",
       "                      product_name  product_quantity  product_quantity.1  \\\n",
       "0      0817 Cotton Knit Small Cord                 1                   1   \n",
       "1  0779 Corduroy 6W Washed Stretch                 2                   2   \n",
       "2  0779 Corduroy 6W Washed Stretch                 1                   1   \n",
       "3      20249 Paisley Flower Velvet                 3                   3   \n",
       "4         19551 Smogged Embroidery                 5                   5   \n",
       "\n",
       "   product_unit_price  product_total_price  \\\n",
       "0              343.75               343.75   \n",
       "1              260.00               520.00   \n",
       "2               78.00                78.00   \n",
       "3              247.50               742.50   \n",
       "4              237.50              1187.50   \n",
       "\n",
       "                                      category_names  \n",
       "0  [\"Green Fabrics\", \"Transition to fall in style...  \n",
       "1  [\"Red Fabrics\", \"WOVEN\", \"Transition to fall i...  \n",
       "2  [\"Purple Fabrics\", \"WOVEN\", \"Transition to fal...  \n",
       "3  [\"Green Fabrics\", \"WOVEN\", \"Winter Collection\"...  \n",
       "4  [\"Green Fabrics\", \"Top Selling Women Fabrics\",...  "
      ],
      "text/html": [
       "<div>\n",
       "<style scoped>\n",
       "    .dataframe tbody tr th:only-of-type {\n",
       "        vertical-align: middle;\n",
       "    }\n",
       "\n",
       "    .dataframe tbody tr th {\n",
       "        vertical-align: top;\n",
       "    }\n",
       "\n",
       "    .dataframe thead th {\n",
       "        text-align: right;\n",
       "    }\n",
       "</style>\n",
       "<table border=\"1\" class=\"dataframe\">\n",
       "  <thead>\n",
       "    <tr style=\"text-align: right;\">\n",
       "      <th></th>\n",
       "      <th>order_number</th>\n",
       "      <th>order_date</th>\n",
       "      <th>customer_number</th>\n",
       "      <th>customer_email</th>\n",
       "      <th>address_street</th>\n",
       "      <th>address_zipcode</th>\n",
       "      <th>address_city</th>\n",
       "      <th>address_country_name</th>\n",
       "      <th>product_name</th>\n",
       "      <th>product_quantity</th>\n",
       "      <th>product_quantity.1</th>\n",
       "      <th>product_unit_price</th>\n",
       "      <th>product_total_price</th>\n",
       "      <th>category_names</th>\n",
       "    </tr>\n",
       "  </thead>\n",
       "  <tbody>\n",
       "    <tr>\n",
       "      <th>0</th>\n",
       "      <td>30617</td>\n",
       "      <td>2024-06-21 11:54:57.688</td>\n",
       "      <td>921</td>\n",
       "      <td>sven@cyroline.de</td>\n",
       "      <td>KRONSFORDER ALLEE</td>\n",
       "      <td>23560</td>\n",
       "      <td>Lübeck</td>\n",
       "      <td>DE</td>\n",
       "      <td>0817 Cotton Knit Small Cord</td>\n",
       "      <td>1</td>\n",
       "      <td>1</td>\n",
       "      <td>343.75</td>\n",
       "      <td>343.75</td>\n",
       "      <td>[\"Green Fabrics\", \"Transition to fall in style...</td>\n",
       "    </tr>\n",
       "    <tr>\n",
       "      <th>1</th>\n",
       "      <td>30617</td>\n",
       "      <td>2024-06-21 11:54:57.688</td>\n",
       "      <td>921</td>\n",
       "      <td>sven@cyroline.de</td>\n",
       "      <td>KRONSFORDER ALLEE</td>\n",
       "      <td>23560</td>\n",
       "      <td>Lübeck</td>\n",
       "      <td>DE</td>\n",
       "      <td>0779 Corduroy 6W Washed Stretch</td>\n",
       "      <td>2</td>\n",
       "      <td>2</td>\n",
       "      <td>260.00</td>\n",
       "      <td>520.00</td>\n",
       "      <td>[\"Red Fabrics\", \"WOVEN\", \"Transition to fall i...</td>\n",
       "    </tr>\n",
       "    <tr>\n",
       "      <th>2</th>\n",
       "      <td>30617</td>\n",
       "      <td>2024-06-21 11:54:57.688</td>\n",
       "      <td>921</td>\n",
       "      <td>sven@cyroline.de</td>\n",
       "      <td>KRONSFORDER ALLEE</td>\n",
       "      <td>23560</td>\n",
       "      <td>Lübeck</td>\n",
       "      <td>DE</td>\n",
       "      <td>0779 Corduroy 6W Washed Stretch</td>\n",
       "      <td>1</td>\n",
       "      <td>1</td>\n",
       "      <td>78.00</td>\n",
       "      <td>78.00</td>\n",
       "      <td>[\"Purple Fabrics\", \"WOVEN\", \"Transition to fal...</td>\n",
       "    </tr>\n",
       "    <tr>\n",
       "      <th>3</th>\n",
       "      <td>30617</td>\n",
       "      <td>2024-06-21 11:54:57.688</td>\n",
       "      <td>921</td>\n",
       "      <td>sven@cyroline.de</td>\n",
       "      <td>KRONSFORDER ALLEE</td>\n",
       "      <td>23560</td>\n",
       "      <td>Lübeck</td>\n",
       "      <td>DE</td>\n",
       "      <td>20249 Paisley Flower Velvet</td>\n",
       "      <td>3</td>\n",
       "      <td>3</td>\n",
       "      <td>247.50</td>\n",
       "      <td>742.50</td>\n",
       "      <td>[\"Green Fabrics\", \"WOVEN\", \"Winter Collection\"...</td>\n",
       "    </tr>\n",
       "    <tr>\n",
       "      <th>4</th>\n",
       "      <td>30617</td>\n",
       "      <td>2024-06-21 11:54:57.688</td>\n",
       "      <td>921</td>\n",
       "      <td>sven@cyroline.de</td>\n",
       "      <td>KRONSFORDER ALLEE</td>\n",
       "      <td>23560</td>\n",
       "      <td>Lübeck</td>\n",
       "      <td>DE</td>\n",
       "      <td>19551 Smogged Embroidery</td>\n",
       "      <td>5</td>\n",
       "      <td>5</td>\n",
       "      <td>237.50</td>\n",
       "      <td>1187.50</td>\n",
       "      <td>[\"Green Fabrics\", \"Top Selling Women Fabrics\",...</td>\n",
       "    </tr>\n",
       "  </tbody>\n",
       "</table>\n",
       "</div>"
      ]
     },
     "metadata": {},
     "output_type": "display_data"
    }
   ],
   "execution_count": 13
  },
  {
   "metadata": {
    "ExecuteTime": {
     "end_time": "2025-05-19T19:07:55.257286Z",
     "start_time": "2025-05-19T19:07:55.225984Z"
    }
   },
   "cell_type": "code",
   "source": "orderData.describe().transpose()",
   "id": "1366715602719bcd",
   "outputs": [
    {
     "data": {
      "text/plain": [
       "                       count          mean          std       min       25%  \\\n",
       "order_number         76201.0  30900.135326  2525.891477  26632.00  28675.00   \n",
       "customer_number      76201.0  11779.893820  9673.283837     19.00   2126.00   \n",
       "product_quantity     76201.0      1.122072     0.563925      1.00      1.00   \n",
       "product_quantity.1   76201.0      1.122072     0.563925      1.00      1.00   \n",
       "product_unit_price   76201.0     88.221147   232.512755  -5584.57      3.35   \n",
       "product_total_price  76201.0    101.362518   256.239470  -5584.57      3.35   \n",
       "\n",
       "                         50%      75%      max  \n",
       "order_number         30981.0  32986.0  35207.0  \n",
       "customer_number      11334.0  22287.0  26978.0  \n",
       "product_quantity         1.0      1.0     24.0  \n",
       "product_quantity.1       1.0      1.0     24.0  \n",
       "product_unit_price      54.0     78.0  13980.0  \n",
       "product_total_price     55.2     90.0  13980.0  "
      ],
      "text/html": [
       "<div>\n",
       "<style scoped>\n",
       "    .dataframe tbody tr th:only-of-type {\n",
       "        vertical-align: middle;\n",
       "    }\n",
       "\n",
       "    .dataframe tbody tr th {\n",
       "        vertical-align: top;\n",
       "    }\n",
       "\n",
       "    .dataframe thead th {\n",
       "        text-align: right;\n",
       "    }\n",
       "</style>\n",
       "<table border=\"1\" class=\"dataframe\">\n",
       "  <thead>\n",
       "    <tr style=\"text-align: right;\">\n",
       "      <th></th>\n",
       "      <th>count</th>\n",
       "      <th>mean</th>\n",
       "      <th>std</th>\n",
       "      <th>min</th>\n",
       "      <th>25%</th>\n",
       "      <th>50%</th>\n",
       "      <th>75%</th>\n",
       "      <th>max</th>\n",
       "    </tr>\n",
       "  </thead>\n",
       "  <tbody>\n",
       "    <tr>\n",
       "      <th>order_number</th>\n",
       "      <td>76201.0</td>\n",
       "      <td>30900.135326</td>\n",
       "      <td>2525.891477</td>\n",
       "      <td>26632.00</td>\n",
       "      <td>28675.00</td>\n",
       "      <td>30981.0</td>\n",
       "      <td>32986.0</td>\n",
       "      <td>35207.0</td>\n",
       "    </tr>\n",
       "    <tr>\n",
       "      <th>customer_number</th>\n",
       "      <td>76201.0</td>\n",
       "      <td>11779.893820</td>\n",
       "      <td>9673.283837</td>\n",
       "      <td>19.00</td>\n",
       "      <td>2126.00</td>\n",
       "      <td>11334.0</td>\n",
       "      <td>22287.0</td>\n",
       "      <td>26978.0</td>\n",
       "    </tr>\n",
       "    <tr>\n",
       "      <th>product_quantity</th>\n",
       "      <td>76201.0</td>\n",
       "      <td>1.122072</td>\n",
       "      <td>0.563925</td>\n",
       "      <td>1.00</td>\n",
       "      <td>1.00</td>\n",
       "      <td>1.0</td>\n",
       "      <td>1.0</td>\n",
       "      <td>24.0</td>\n",
       "    </tr>\n",
       "    <tr>\n",
       "      <th>product_quantity.1</th>\n",
       "      <td>76201.0</td>\n",
       "      <td>1.122072</td>\n",
       "      <td>0.563925</td>\n",
       "      <td>1.00</td>\n",
       "      <td>1.00</td>\n",
       "      <td>1.0</td>\n",
       "      <td>1.0</td>\n",
       "      <td>24.0</td>\n",
       "    </tr>\n",
       "    <tr>\n",
       "      <th>product_unit_price</th>\n",
       "      <td>76201.0</td>\n",
       "      <td>88.221147</td>\n",
       "      <td>232.512755</td>\n",
       "      <td>-5584.57</td>\n",
       "      <td>3.35</td>\n",
       "      <td>54.0</td>\n",
       "      <td>78.0</td>\n",
       "      <td>13980.0</td>\n",
       "    </tr>\n",
       "    <tr>\n",
       "      <th>product_total_price</th>\n",
       "      <td>76201.0</td>\n",
       "      <td>101.362518</td>\n",
       "      <td>256.239470</td>\n",
       "      <td>-5584.57</td>\n",
       "      <td>3.35</td>\n",
       "      <td>55.2</td>\n",
       "      <td>90.0</td>\n",
       "      <td>13980.0</td>\n",
       "    </tr>\n",
       "  </tbody>\n",
       "</table>\n",
       "</div>"
      ]
     },
     "execution_count": 10,
     "metadata": {},
     "output_type": "execute_result"
    }
   ],
   "execution_count": 10
  },
  {
   "metadata": {
    "ExecuteTime": {
     "end_time": "2025-05-19T19:07:55.324069Z",
     "start_time": "2025-05-19T19:07:55.311060Z"
    }
   },
   "cell_type": "code",
   "source": [
    "# Groeperen op ordernummer en betaling per order berekenen\n",
    "payment_per_order = orderData.groupby('order_number')['product_total_price'].sum().reset_index()\n",
    "\n",
    "# Resultaat bekijken\n",
    "print(payment_per_order)"
   ],
   "id": "fe7183ec33398b61",
   "outputs": [
    {
     "name": "stdout",
     "output_type": "stream",
     "text": [
      "      order_number  product_total_price\n",
      "0            26632                45.00\n",
      "1            26633               974.35\n",
      "2            26634               131.76\n",
      "3            26635               165.00\n",
      "4            26636              1312.80\n",
      "...            ...                  ...\n",
      "8534         35203              2804.46\n",
      "8535         35204               998.16\n",
      "8536         35205               863.04\n",
      "8537         35206               143.76\n",
      "8538         35207              2047.50\n",
      "\n",
      "[8539 rows x 2 columns]\n"
     ]
    }
   ],
   "execution_count": 11
  },
  {
   "metadata": {
    "ExecuteTime": {
     "end_time": "2025-05-19T19:07:55.669337Z",
     "start_time": "2025-05-19T19:07:55.361675Z"
    }
   },
   "cell_type": "code",
   "source": [
    "# Alleen numerieke kolommen selecteren\n",
    "numeric_columns = orderData.select_dtypes(include=['number'])\n",
    "\n",
    "# Correlatiematrix berekenen op basis van numerieke kolommen\n",
    "corr_matrix = numeric_columns.corr()\n",
    "\n",
    "# Correlatiematrix weergeven\n",
    "print(\"-----Correlatiematrix op basis van numerieke kolommen-----\")\n",
    "print(corr_matrix)\n",
    "\n",
    "# Visuele heatmap van de correlatiematrix maken\n",
    "plt.figure(figsize=(10, 8))\n",
    "sns.heatmap(corr_matrix, annot=True, cmap=\"coolwarm\", fmt=\".2f\", square=True)\n",
    "plt.title(\"Correlatiematrix van numerieke kolommen in orderData\")\n",
    "plt.show()"
   ],
   "id": "6b44d8874029ad43",
   "outputs": [
    {
     "name": "stdout",
     "output_type": "stream",
     "text": [
      "-----Correlatiematrix op basis van numerieke kolommen-----\n",
      "                     order_number  customer_number  product_quantity  \\\n",
      "order_number             1.000000         0.059273          0.011389   \n",
      "customer_number          0.059273         1.000000          0.026673   \n",
      "product_quantity         0.011389         0.026673          1.000000   \n",
      "product_quantity.1       0.011389         0.026673          1.000000   \n",
      "product_unit_price      -0.013873        -0.048267          0.018091   \n",
      "product_total_price     -0.011077        -0.043587          0.316373   \n",
      "\n",
      "                     product_quantity.1  product_unit_price  \\\n",
      "order_number                   0.011389           -0.013873   \n",
      "customer_number                0.026673           -0.048267   \n",
      "product_quantity               1.000000            0.018091   \n",
      "product_quantity.1             1.000000            0.018091   \n",
      "product_unit_price             0.018091            1.000000   \n",
      "product_total_price            0.316373            0.928100   \n",
      "\n",
      "                     product_total_price  \n",
      "order_number                   -0.011077  \n",
      "customer_number                -0.043587  \n",
      "product_quantity                0.316373  \n",
      "product_quantity.1              0.316373  \n",
      "product_unit_price              0.928100  \n",
      "product_total_price             1.000000  \n"
     ]
    },
    {
     "data": {
      "text/plain": [
       "<Figure size 1000x800 with 2 Axes>"
      ],
      "image/png": "[encoded data removed]"
     },
     "metadata": {},
     "output_type": "display_data"
    }
   ],
   "execution_count": 12
  }
 ],
 "metadata": {
  "kernelspec": {
   "name": "python3",
   "language": "python",
   "display_name": "Python 3 (ipykernel)"
  }
 },
 "nbformat": 5,
 "nbformat_minor": 9
}
