{
 "cells": [
  {
   "metadata": {},
   "cell_type": "markdown",
   "source": [
    "### Dingen die ik moet beheersen:\n",
    "* R-squared:\n",
    "* coef\n",
    "* P>|t|"
   ],
   "id": "597f1b5551276508"
  },
  {
   "metadata": {},
   "cell_type": "code",
   "outputs": [],
   "execution_count": null,
   "source": "",
   "id": "cd24af99af325e69"
  }
 ],
 "metadata": {},
 "nbformat": 5,
 "nbformat_minor": 9
}
