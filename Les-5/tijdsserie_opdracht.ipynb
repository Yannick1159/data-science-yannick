{
 "cells": [
  {
   "cell_type": "markdown",
   "metadata": {},
   "source": [
    "# Programming for data science week 5 - tijdserie-analyse"
   ]
  },
  {
   "cell_type": "markdown",
   "metadata": {},
   "source": [
    "### Leerdoelen\n",
    "- Je leert wat een ARIMA model is, en wat de termen AR, I en MA betekenen\n",
    "- Je leert wat de invloed is van de verschillende termen op de vorm van een tijdsserie\n",
    "- Je leert hoe je orde van een ARIMA model kan bepalen voor de AR, I en MA termen. \n",
    "- Je leert de output van een ARIMA model interpreteren\n",
    "\n",
    "<div>\n",
    "<img src=\"img/Picture1.png\" width=\"600\">\n",
    "</div>\n",
    "\n",
    "### Achtergrondinformatie:\n",
    "- Google naar:\n",
    "    - `python arima model`\n",
    "    - `python interpret arima model output`\n",
    "    - `stationairity in timeseries`\n",
    "    - `acf vs pacf plot`\n",
    "- Datacamp course `Time Series Analysis in Python`. \n",
    "\n",
    "### Opdracht \n",
    "- Vul het onderstaande notebook aan op de gevraagde plekken. \n",
    "- De tijdsindicaties gaan uit van het lezen van de uitleg en instructie en de programmeervaardigheden die in de voorgaande weken zijn opgedaan. \n",
    "\n",
    "# ARIMA modellen\n",
    "Het doel van een ARIMA model is het nabootsen van een tijdsserie. Dit wordt gedaan door de variaties in de data te modelleren door middel van de volgende drie opties: \n",
    "\n",
    "- AR (auto-regressief), voorgaande waardes worden gebruikt om nieuwe waardes te voorspellen.\n",
    "- I (integrated), niet de originele serie maar een gedifferentieerde tijdsserie wordt gebruikt. Dit om de tijdsserie stationair te maken. \n",
    "- MA (moving average), voorafgaande fouten worden gebruikt om nieuwe fouten voorspellen. Dit heeft een smoothing effect, een bewegend gemiddelde. \n",
    "\n",
    "Door deze effecten te mengen kun je de meeste tijdsseries nabootsen. In de volgende sectie gaan we de effecten van de AR en MA termen op een tijdsserie bekijken. \n",
    "\n",
    "# Model assessment\n",
    "Na het realiseren van verschillende ARIMA modellen geven we een onderbouwd advies óf en zo ja wélk van deze modellen het geschiktst is voor de analyse van deze tijdreeksen."
   ]
  },
  {
   "cell_type": "code",
   "execution_count": null,
   "metadata": {},
   "outputs": [],
   "source": [
    "# nuttige Jupyter Notebook Magic\n",
    "%config IPCompleter.greedy = True\n",
    "%matplotlib inline"
   ]
  },
  {
   "cell_type": "markdown",
   "metadata": {},
   "source": [
    "# Business understanding\n",
    "We willen een voorspelling kunnen doen wat de beurskoers van een aandeel de komende dag gaat doen, zodat we kunnen bepalen of we dit aandeel net voor het sluiten van de beurs willen aanschaffen om het later met winst te kunnen verkopen."
   ]
  },
  {
   "cell_type": "markdown",
   "metadata": {},
   "source": [
    "# Data understanding"
   ]
  },
  {
   "cell_type": "markdown",
   "metadata": {},
   "source": [
    "1. In welk format is de data (aangeleverd)? \n",
    "         [NIEUW] online beschikbaar via een API\n",
    "2. Hoe kun je de databron benaderen vanuit python? \n",
    "         [NIEUW] m.b.v. een package dat nog niet aan de Anaconda environment is toegevoegd. \n",
    "3. Data exploreren:\n",
    "       a. Informatie over de database\n",
    "        - Welke tabellen (evt. collections) staan er in de database?\n",
    "        - Welke kolommen (variabelen) vinden we terug in elke tabel? Kun je aan elke kolom betekenis geven??\n",
    "        - Wat is het aantal records per tabel?\n",
    "        - Welke datatypes vinden we terug in de tabellen?\n",
    "        - Zijn er lege cellen?\n",
    "       b. Vul dit evt. aan met beschrijvende statistiek, kijk alvast vooruit naar het regressiemodel\n",
    "       c. Visualiseer de data op een slimme manier, kijk alvast vooruit naar het regressiemodel\n",
    "       d. Zijn alle variabelen van nominaal of ratio meetniveau? Welke invloed heeft dit op de volgende stappen?\n",
    "       e. Welk type regressiemodel is waarschijnlijk geschikt om de verbanden te onderzoeken?"
   ]
  },
  {
   "cell_type": "markdown",
   "metadata": {},
   "source": [
    "We kunnen de API van [Yahoo Finance](https://finance.yahoo.com/) gebruiken om de handelsdata van een aandeel te verkrijgen. Hiervoor moeten we eerst de library toevoegen aan onze pythonomgeving. Dit kan niet via de standaardkanalen van Anaconda, maar wel m.b.v. de package installer van python (pip)."
   ]
  },
  {
   "cell_type": "markdown",
   "metadata": {},
   "source": [
    "![title](img\\yfinance.png)"
   ]
  },
  {
   "cell_type": "markdown",
   "metadata": {},
   "source": [
    "We kunnen nu de libraries van Yahoo Finance in onze eigen python-omgeving importeren."
   ]
  },
  {
   "cell_type": "code",
   "execution_count": null,
   "metadata": {},
   "outputs": [],
   "source": [
    "# [10 min] installeer het Yahoo Finance package in je python-werkomgeving \n",
    "# zorg dat het package in dit Jupyter Notebook gebruikt kan worden.\n",
    "\n",
    "import _________ as yf"
   ]
  },
  {
   "cell_type": "markdown",
   "metadata": {},
   "source": [
    "We gaan het tijdreeksmodel trainen voor de slotkoersen van Apple aan de Dow Jones. We gebruiken een periode van vijf jaar aan gegevens. We laten het coronajaar 2020 in eerste instantie buiten beschouwing. In een tweede iteratie zullen we de beschikbare gegevens vanaf 2020 ook meenemen. We gebruiken dus de gegevens in de periode van 1 januari 2014 tot 1 januari 2020. Op de website van [Yahoo Finance](finance.yahoo.com) hebben we gevonden dat de korte naam voor het aandeel van Apple `AAPL` is."
   ]
  },
  {
   "cell_type": "code",
   "execution_count": null,
   "metadata": {},
   "outputs": [],
   "source": [
    "#[10 min] Geef hieronder de code om de data te importeren en beschrijf de data\n",
    "#controleer of het aantal datapunten overeenkomt met het aantal handelsdagen in deze periode.\n",
    "#onderbouw welke variabele het best gebruikt om de slotkoers te bepalen het beste aansluit bij het business doel. \n",
    "\n",
    "koers_aandeel = yf.download(________________)"
   ]
  },
  {
   "cell_type": "markdown",
   "metadata": {},
   "source": [
    "### Data exploratie\n",
    "Onderzoek het verloop van de beurskoers van het aandeel in deze periode laat zien."
   ]
  },
  {
   "cell_type": "code",
   "execution_count": null,
   "metadata": {},
   "outputs": [],
   "source": [
    "#[10 minuten] Exploreer de variabelen m.b.v. centrum- en spreidingsmaten.\n",
    "# Gebruik een lijngrafiek om het verloop van de beurskoer te visualiseren.\n",
    "#maak notities voor belangrijke bevindingen en/of zaken om later op te letten.\n",
    "#Bewerk de vetgedrukte tekst bij de onderstaande bevindingen. \n",
    "#Laat alleen de tekst staan die past bij deze situatie.\n",
    "\n"
   ]
  },
  {
   "cell_type": "markdown",
   "metadata": {},
   "source": [
    "Hier vallen de volgende zaken op:\n",
    "\n",
    "**Vul dit stuk aan: geef een lijst met zaken die je opvallen.**\n"
   ]
  },
  {
   "cell_type": "markdown",
   "metadata": {},
   "source": [
    "We hebben in de Datacamp course [`Simple Time Series`](https://campus.datacamp.com/courses/time-series-analysis-in-python/some-simple-time-series?ex=11)  die we als voorbereiding op deze les gemaakt hebben geleerd dat de data stabiel (stationair) moet zijn om een tijdreeksmodel te kunnen maken waarbij de Auto Regressie en Moving Average worden gebruikt om voorspellingen te kunnen doen. Dit kan in het ARIMA-model eventueel door het instellen van de I-parameter.\n",
    "\n",
    "Preparatie van de data is **wel/niet** nodig omdat de beurskoers een **dalende/stijgende/gelijkblijvende** trend laat zien, en dus niet stationair is. "
   ]
  },
  {
   "cell_type": "markdown",
   "metadata": {},
   "source": [
    "## Datapreparatie\n",
    "**Prepareer de data als dat nodig is** \n",
    "\n",
    "## Data modeling\n",
    "### Modelkeuze\n",
    "Het is mogelijk om een regressiemodel te kiezen waarin de onafhankelijke variabele tijd wordt meegenomen en waarbij de data door het model stationair wordt gemaakt. Dit is het `ARIMA`-model. De Integrated (I)-parameter geeft aan welke afgeleide wordt meegenomen om het model stationair te maken. \n",
    "\n",
    "Bepaal welke afgeleide nodig is om het model stationair te maken (de lijn loopt dan horizontaal). Dit bepaalt de instelling voor de I-parameter."
   ]
  },
  {
   "cell_type": "code",
   "execution_count": null,
   "metadata": {},
   "outputs": [],
   "source": [
    "# [10 min] maak gebruik van de differentiatie-methode in Pandas en bepaal 'op het oog' wanneer de data stationair is.\n",
    "# toon na elke differentiatiestap de lijngrafiek met de afgeleide data."
   ]
  },
  {
   "cell_type": "markdown",
   "metadata": {},
   "source": [
    "Op het oog kunnen we nu al vaststellen dat de data stabiel (stationair) is. In [een gevorderde cursus](https://campus.datacamp.com/courses/arima-models-in-python/chapter-1-arma-models?ex=5) op Datacamp vinden we dat we de stabiliteit van data ook statistisch kunnen toetsen m.b.v. de Augmented Dicky-Fuller test.  "
   ]
  },
  {
   "cell_type": "markdown",
   "metadata": {},
   "source": [
    "We voeren deze test eerst uit voor de oorspronkelijke dataset.\n",
    "De test is statistisch significant bij een p-waarde kleiner dan 0,10 is. Dus de data is stationair als p<0,10. "
   ]
  },
  {
   "cell_type": "code",
   "execution_count": null,
   "metadata": {},
   "outputs": [],
   "source": [
    "# [10 min] deze test kan niet overweg met missende waardes, daarom prepareren we de dataset die we meegeven aan de adfuller-functie.\n",
    "\n",
    "from statsmodels.tsa.stattools import adfuller\n",
    "\n",
    "result = adfuller(koers_aandeel['Adj Close'].dropna().values)\n",
    "print('ADF Statistic: %f' % result[0])\n",
    "print('p-value: %f' % result[1])\n",
    "print('Critical Values:')\n",
    "for key, value in result[4].items():\n",
    "\tprint('\\t%s: %.3f' % (key, value))"
   ]
  },
  {
   "cell_type": "markdown",
   "metadata": {},
   "source": [
    "**Was je conclusie 'op het oog' juist?**"
   ]
  },
  {
   "cell_type": "code",
   "execution_count": null,
   "metadata": {},
   "outputs": [],
   "source": [
    "# [5 min] Voer de ADFuller-test uit voor elke afgeleide totdat het resultaat statistisch significant is. "
   ]
  },
  {
   "cell_type": "markdown",
   "metadata": {},
   "source": [
    "## Datapreparatie \n",
    "**Prepareer de data als dat nodig is: definieer de stationaire dataset en verwijder de rijen met missing values werk hiermee verder.** "
   ]
  },
  {
   "cell_type": "code",
   "execution_count": null,
   "metadata": {},
   "outputs": [],
   "source": [
    "# [1 min]\n",
    "ARMA_data_slotkoers = df['Close'].diff()"
   ]
  },
  {
   "cell_type": "markdown",
   "metadata": {},
   "source": [
    "# LES 2 ARIMA-model bouwen en gebruiken\n",
    "\n",
    "### Model bouwen\n",
    "#### Parameters instellen\n",
    "Bij het opstellen van het ARIMA-model moeten we voor de I-parameter (integrated) de waarde 1 meegeven: `ARIMA(data, order=(?,1,?)).fit()`\n",
    "\n",
    "We volgen de [Datacamp course](https://campus.datacamp.com/courses/time-series-analysis-in-python/some-simple-time-series?ex=13) verder en bepalen de waarde voor het voortschrijdend gemiddelde (moving average: MA) voor het tijdreeksmodel m.b.v. de autocorrelatie. \n",
    "\n",
    "*Definities*\n",
    "\n",
    "Het ACF plot kijkt naar de correlatie van een waarde met vorige lags, maar houdt hierbij een rekening met het feit dat er eerder lags al waren.\n",
    "Een lag is een vaste tijdsperiode. Afhankelijk van de trends in de data kun je een `lag` instellen op een jaar (bijv. temperatuur in Nederland), een maand (bijv. voor banksaldo van studenten), een week (bijv. aantal verplaatsingen i.v.m. woon-werkverkeer), etc. \n",
    "\n",
    "We importeren het package `plot_acf` uit de `statsmodels`-library om een autocorrelatieplot te kunnen maken. "
   ]
  },
  {
   "cell_type": "code",
   "execution_count": null,
   "metadata": {},
   "outputs": [],
   "source": [
    "from statsmodels.graphics.tsaplots import plot_acf"
   ]
  },
  {
   "cell_type": "markdown",
   "metadata": {},
   "source": [
    "In de koers van het aandeel Apple lijkt geen terugkerend patroon te zitten. Dit betekent dat we geen `lag`-parameter hoeven in te stellen. "
   ]
  },
  {
   "cell_type": "code",
   "execution_count": null,
   "metadata": {},
   "outputs": [],
   "source": [
    "plot_acf(ARMA_data_slotkoers)"
   ]
  },
  {
   "cell_type": "markdown",
   "metadata": {},
   "source": [
    "De auto-correlatiegrafiek wordt twee keer weergegeven. Voor het interpreteren van de grafiek hoeven we hier niets aan te doen. Het toepassen van de methode `gca()` zou het twee keer afbeelden van de grafiek voorkomen.\n",
    "\n",
    "In dit autocorrelatieplot liggen bijna alle waardes binnen het lichtblauwe onzekerheidsgebied (deze variantie in autocorrelatie kan worden verklaard door ruis). Dit betekent dat we geen MA-parameter hoeven in te stellen. \n",
    "\n",
    "Voor de zekerheid bekijken we ook de autocorrelaties met een lag van een week."
   ]
  },
  {
   "cell_type": "code",
   "execution_count": null,
   "metadata": {},
   "outputs": [],
   "source": [
    "# [10 min] maak het autocorrelatieplot met lags van een week. \n",
    "# Hou er bij het bepalen van de lags rekening mee dat we alleen datapunten hebben voor de handelsdagen.\n",
    "# Interpreteer de acf-plot voor het instellen van de MA-parameter. \n",
    "plot_acf(__________________, lags=_________)"
   ]
  },
  {
   "cell_type": "markdown",
   "metadata": {},
   "source": [
    "Beide autocorrelatiegrafieken (zonder lag en met lag van een jaar) lijken erg op elkaar. We hoeven dus geen lag-parameter in te stellen. \n",
    "\n",
    "Op de allereerste waarde na ligt de autocorrelatie dicht bij 0. \n",
    "\n",
    "Conclusie: de MA-parameter hoeven we voor dit model dus niet in te stellen (dus geven we de waarde 0). De I-waarde was al bekend, nl. 1: `ARIMA(data, order=(?,1,0)).fit()`"
   ]
  },
  {
   "cell_type": "markdown",
   "metadata": {},
   "source": [
    "Voor het aandeel Apple kan een moving average van 0 als volgt worden uitgelegd: het gewogen gemiddelde van de vorige slotkoersen heeft geen invloed op de huidige slotkoers."
   ]
  },
  {
   "cell_type": "markdown",
   "metadata": {},
   "source": [
    "Tenslotte moet nog worden vastgesteld hoeveel ruis er in het model zit en of deze ruis invloed heeft op de variantie van de slotkoersen; dit is de Auto Regressie (`AR`) waarde m.b.v. de partiële autocorrelatie. De partiële autocorrelatie geeft weer hoe sterk het verband is tussen de waarde van een lag en de waarde van voorgaande lags. Als er tussen de lags nog significante correlatie bestaat is dit een aanwijzing dat er auto-correlatie optreed en dat het instellen van de AR parameter een goed idee is. "
   ]
  },
  {
   "cell_type": "code",
   "execution_count": null,
   "metadata": {},
   "outputs": [],
   "source": [
    "from statsmodels.graphics.tsaplots import plot_pacf"
   ]
  },
  {
   "cell_type": "code",
   "execution_count": null,
   "metadata": {},
   "outputs": [],
   "source": [
    "#[5 min]\n",
    "plot_pacf(________________)"
   ]
  },
  {
   "cell_type": "markdown",
   "metadata": {},
   "source": [
    "Veruit de meeste lags hebben een partiële autocorrelatie van dichtbij 0. We zien twee uitschieters naar boven en één naar beneden. Omdat het nu nog uitzonderingen zijn is dit onvoldoende om een AR-waarde toe te voegen.  De MA en I-waarde waren al bekend, we voegen de AR-waarde 0 toe: `ARIMA(data, order=(0,1,0)).fit()`"
   ]
  },
  {
   "cell_type": "markdown",
   "metadata": {},
   "source": [
    "Nu we de parameters hebben vastgesteld kunnen we het tijdreeksmodel uitvoeren."
   ]
  },
  {
   "cell_type": "code",
   "execution_count": null,
   "metadata": {},
   "outputs": [],
   "source": [
    "#[5 min]\n",
    "from statsmodels.tsa.arima_model import ARIMA\n",
    "\n",
    "slotkoers_model = ARIMA(_______________)\n",
    "slotkoers_model_fit = slotkoers_model.fit(disp=0)\n",
    "print(slotkoers_model_fit.summary())\n",
    "fig = slotkoers_model_fit.plot_predict(dynamic=False)"
   ]
  },
  {
   "cell_type": "markdown",
   "metadata": {},
   "source": [
    "***\n",
    "De waarschuwing negeren we voor nu omdat het voorgestelde package (nog) geen `predict plot` bevat. \n",
    "***"
   ]
  },
  {
   "cell_type": "markdown",
   "metadata": {},
   "source": [
    "## Voorbeeld terugkerend patroon\n",
    "Aandelenkoersen hebben dit vaak veel minder. Onderstaand voorbeeld met verkoopcijfers van een landbouwvoertuigenfabrikant bevat wel zo'n duidelijk patroon. Nu we een ARIMA model hebben gebouwd gaan we even terug naar wat we bij ADA met de hand en rekenmachine hebben gedaan."
   ]
  },
  {
   "cell_type": "code",
   "execution_count": null,
   "metadata": {},
   "outputs": [],
   "source": [
    "# [5 min]\n",
    "from io import StringIO\n",
    "import requests\n",
    "import pandas as pd\n",
    "verkoopdata = pd.read_csv(StringIO(requests.get('http://www.ucanalytics.com/blogs/wp-content/uploads/2015/06/Tractor-Sales.csv').text\n",
    "))\n",
    "verkoopdata['Number of Tractor Sold'].plot(figsize=(16,10))"
   ]
  },
  {
   "cell_type": "markdown",
   "metadata": {},
   "source": [
    "Bij ADA hebben we geleerd om als eerste te kijken naar de veranderingen in de pieken. We zien hier dat de amplitudes steeds groter worden. Het is daarom een multiplicatief model. De patronen gebruikten we om de spreidingsbreedte uit te rekenen en de storingsterm E konden we negeren (weglaten) in een multiplicatief model.\n",
    "\n",
    "Daarna rekenen we het voortschrijdend gemiddelde uit. Met dit voortschrijdend gemiddelde wordt vervolgens een reguliere lineaire regressie gedaan. Ook wordt er gekeken naar de spreidingsbreedte per periode (im dit geval van 12 maanden). Waarschijnlijk neemt het verschil tussen minimum en maximum amplitude met een redelijk constante factor toe. Deze kun je uit de spreidingsbreedtetabel halen. Voorspellingen volgen uit de lineaire regressie vermenigvuldigd met de spreidingsbreedtefactor voor die maand. \n",
    "\n",
    "In het ARIMA model heeft de AR term invloed op het rustig of heftig golven van de lijn, en de MA term op de kleine afwijkingen. Waarschijnlijk is het nog beter om een SARIMA model te gebruiken als je seasonality herkend. "
   ]
  },
  {
   "cell_type": "markdown",
   "metadata": {},
   "source": [
    "### Model assessment\n",
    "De p-waarde (P>|z|) gebruiken we om te bepalen of de losse componenten van het getrainde model (AR, I en MA) statistisch significant is. In dit model is de p-waarde <0.1, dit hadden we liever kleiner gezien (dus significanter), maar is voldoende acceptabel. \n",
    "\n",
    "*Definitie:* de BIC en AIC waarden zijn maten om te bepalen hoe goed een statistisch model van toepassing is. Het Akaike Information Criterium (AIC) is een criterium dat een compromis maakt tussen de kwaliteit van de fit en de complexiteit van het model. Hoe slechter de fit is, hoe hoger het AIC criterium. \n",
    "\n",
    "We beoordelen het door ons gekozen model door de AIC en BIC-waarden de vergelijken met ARIMA-modellen waar de AR en MA parameters wel zijn ingesteld.\n",
    "\n"
   ]
  },
  {
   "cell_type": "code",
   "execution_count": null,
   "metadata": {},
   "outputs": [],
   "source": [
    "# [20 min] Train het tijdreeksmodel met de AR, I en MA in elk geval met de waarden (1,1,0), (0,1,1), (1,1,2), (2,1,1) en (2,1,2)\n",
    "# Maak een keuze óf we een ARIMA-model kunnen toepassen om de aandelenkoers van het aandeel Apple te voorspellen. \n",
    "# Bij een positieve keuze: welke parameters zijn het geschiktst om te gebruiken?\n",
    "# maak een afweging tussen fit en complexiteit. Kies het geschiktste model met de laagste complexiteit.b"
   ]
  },
  {
   "cell_type": "code",
   "execution_count": null,
   "metadata": {},
   "outputs": [],
   "source": [
    "#Optioneel: gebruik deze code om de waarschuwingen over het gebruik van het verouderde package tijdelijk niet weer te geven.\n",
    "import warnings, math\n",
    "\n",
    "with warnings.catch_warnings():\n",
    "    warnings.simplefilter('ignore')\n",
    "    "
   ]
  },
  {
   "cell_type": "markdown",
   "metadata": {},
   "source": [
    "De AIC en BIC-waarden zijn **wel/niet** vergelijkbaar. \n",
    "\n",
    "Conclusie: \n",
    "Het ARIMA-model is **wel/niet** geschikt om de aandelenkoers van Apple te voorspellen.\n",
    "\n",
    "Hierbij gebruiken we de parametersettings:   \n",
    "\n",
    "Toelichting: \n"
   ]
  },
  {
   "cell_type": "markdown",
   "metadata": {},
   "source": [
    "## Evaluatie\n",
    "We kunnen het model nu gebruiken om te voorspellen hoeveel punten de slotkoers de volgende dag hoger of lager ligt.\n",
    "\n",
    "Deze voorspelling was voor de eerste handelsdag in 2020. Lag de slotkoers van het aandeel Apple inderdaad 0.04 punten hoger zoals voorspeld? "
   ]
  },
  {
   "cell_type": "code",
   "execution_count": null,
   "metadata": {},
   "outputs": [],
   "source": [
    "#[5 min]"
   ]
  },
  {
   "cell_type": "markdown",
   "metadata": {},
   "source": [
    "# Opdracht:\n",
    "Verdeel het werk in de groep:\n",
    "- De helft bouwt een ARIMA-model voor aandelenkoers Apple vanaf 2020 tot nu.\n",
    "- De andere helft bouwt een ARIMA-model voor aandelenkoers vanaf 2014 tot nu.\n",
    "- Vergelijk hierna de 3 gebouwde ARIMA-modellen. \n",
    "\n",
    "- Welk model adviseer je om te gebruiken voor de koersvoorspellingen in 2021? \n",
    "- Welk model adviseer je om te gebruiken voor de koersvoorspellingen voor de komende 25 jaar?\n",
    "- Wat is de verwachte koersstijging/-daling voor de eerstvolgende handelsdag?"
   ]
  },
  {
   "cell_type": "code",
   "execution_count": null,
   "metadata": {},
   "outputs": [],
   "source": [
    "# [30 minuten (20 bouwen + 10 vergelijken)]"
   ]
  }
 ],
 "metadata": {
  "kernelspec": {
   "display_name": "Python 3",
   "language": "python",
   "name": "python3"
  },
  "language_info": {
   "codemirror_mode": {
    "name": "ipython",
    "version": 3
   },
   "file_extension": ".py",
   "mimetype": "text/x-python",
   "name": "python",
   "nbconvert_exporter": "python",
   "pygments_lexer": "ipython3",
   "version": "3.8.5"
  }
 },
 "nbformat": 4,
 "nbformat_minor": 4
}
