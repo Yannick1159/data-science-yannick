{
 "cells": [
  {
   "cell_type": "markdown",
   "metadata": {},
   "source": [
    "### Leerdoelen\n",
    "- Je leert een Business Understanding te formuleren bij een opdrachtgever en een gegeven dataset. \n",
    "- Je leert hoe je met Naive Bayes classificatie kan doen op een dataset\n",
    "- Je leert hoe je tekst data kan voorbewerken via een Bag-of-Words aanpak voordat je het met Naive Bayes gebruikt\n",
    "- Je leert figuren in je Data Understanding goed in context uit te leggen\n",
    "- Je leert je conslusies uit het Data Understanding te verbinden aan de uitkomst van je Naive Bayes classifier\n",
    "- Je leert een keuze tussen Naive Bayes modellen van toenemende complexiteit\n",
    "\n",
    "### Achtergrondinformatie:\n",
    "- Google naar:\n",
    "    - `python naive bayes`\n",
    "    - `python pandas read fixed width format`\n",
    "    - `python naive bayes text classification`\n",
    "    - `python sklearn generate word counts`\n",
    "    - `python sklearn CountVectorizer`\n",
    "    - `python bag of words`\n",
    "- Datacamp course `Machine Learning with Tree-Based Models in Python` -> `Classification and Regression Trees`\n",
    "\n",
    "### Opdracht \n",
    "- Vul het onderstaande notebook aan op de gevraagde plekken. \n",
    "\n",
    "# Business Understanding\n",
    "Spam [was en is](https://www.propellercrm.com/blog/email-spam-statistics) een enorm probleem: 45% van de mails in de wereld is spam, en dit kost het bedrijfsleven rond de 20 miljard dollar per jaar. Om de impact van spam te verlagen is het van groot belang dat we goede spamfilters hebben die er voor zorgen dan mensen spam niet in hun mailbox ontvangen. \n",
    "\n",
    "# Data Understanding\n",
    "Wij gaan ons spamfilter trainen op [een set aan SMS'jes](http://www.dt.fee.unicamp.br/~tiago/smsspamcollection/), welke aangeleverd werd als een fixed-width data file:"
   ]
  },
  {
   "cell_type": "code",
   "metadata": {
    "ExecuteTime": {
     "end_time": "2025-04-24T22:01:34.072707Z",
     "start_time": "2025-04-24T22:01:34.057750Z"
    }
   },
   "source": [
    "%matplotlib inline\n",
    "\n",
    "import numpy as np\n",
    "import pandas as pd\n",
    "\n",
    "spam_sms = pd.read_fwf('sms_data.txt',\n",
    "                       widths=(4, 60), \n",
    "                       header=None)\n",
    "spam_sms.columns = ['spam_or_ham', 'text']\n",
    "spam_sms.head()"
   ],
   "outputs": [
    {
     "data": {
      "text/plain": [
       "  spam_or_ham                                               text\n",
       "0         ham  Go until jurong point, crazy.. Available only ...\n",
       "1         ham                      Ok lar... Joking wif u oni...\n",
       "2        spam  Free entry in 2 a wkly comp to win FA Cup fina...\n",
       "3         ham  U dun say so early hor... U c already then say...\n",
       "4         ham  Nah I don't think he goes to usf, he lives aro..."
      ],
      "text/html": [
       "<div>\n",
       "<style scoped>\n",
       "    .dataframe tbody tr th:only-of-type {\n",
       "        vertical-align: middle;\n",
       "    }\n",
       "\n",
       "    .dataframe tbody tr th {\n",
       "        vertical-align: top;\n",
       "    }\n",
       "\n",
       "    .dataframe thead th {\n",
       "        text-align: right;\n",
       "    }\n",
       "</style>\n",
       "<table border=\"1\" class=\"dataframe\">\n",
       "  <thead>\n",
       "    <tr style=\"text-align: right;\">\n",
       "      <th></th>\n",
       "      <th>spam_or_ham</th>\n",
       "      <th>text</th>\n",
       "    </tr>\n",
       "  </thead>\n",
       "  <tbody>\n",
       "    <tr>\n",
       "      <th>0</th>\n",
       "      <td>ham</td>\n",
       "      <td>Go until jurong point, crazy.. Available only ...</td>\n",
       "    </tr>\n",
       "    <tr>\n",
       "      <th>1</th>\n",
       "      <td>ham</td>\n",
       "      <td>Ok lar... Joking wif u oni...</td>\n",
       "    </tr>\n",
       "    <tr>\n",
       "      <th>2</th>\n",
       "      <td>spam</td>\n",
       "      <td>Free entry in 2 a wkly comp to win FA Cup fina...</td>\n",
       "    </tr>\n",
       "    <tr>\n",
       "      <th>3</th>\n",
       "      <td>ham</td>\n",
       "      <td>U dun say so early hor... U c already then say...</td>\n",
       "    </tr>\n",
       "    <tr>\n",
       "      <th>4</th>\n",
       "      <td>ham</td>\n",
       "      <td>Nah I don't think he goes to usf, he lives aro...</td>\n",
       "    </tr>\n",
       "  </tbody>\n",
       "</table>\n",
       "</div>"
      ]
     },
     "execution_count": 4,
     "metadata": {},
     "output_type": "execute_result"
    }
   ],
   "execution_count": 4
  },
  {
   "cell_type": "code",
   "metadata": {
    "ExecuteTime": {
     "end_time": "2025-04-24T22:01:34.100262Z",
     "start_time": "2025-04-24T22:01:34.090544Z"
    }
   },
   "source": [
    "spam_sms.describe()"
   ],
   "outputs": [
    {
     "data": {
      "text/plain": [
       "       spam_or_ham                    text\n",
       "count         5574                    5574\n",
       "unique           2                    5072\n",
       "top            ham  Sorry, I'll call later\n",
       "freq          4827                      30"
      ],
      "text/html": [
       "<div>\n",
       "<style scoped>\n",
       "    .dataframe tbody tr th:only-of-type {\n",
       "        vertical-align: middle;\n",
       "    }\n",
       "\n",
       "    .dataframe tbody tr th {\n",
       "        vertical-align: top;\n",
       "    }\n",
       "\n",
       "    .dataframe thead th {\n",
       "        text-align: right;\n",
       "    }\n",
       "</style>\n",
       "<table border=\"1\" class=\"dataframe\">\n",
       "  <thead>\n",
       "    <tr style=\"text-align: right;\">\n",
       "      <th></th>\n",
       "      <th>spam_or_ham</th>\n",
       "      <th>text</th>\n",
       "    </tr>\n",
       "  </thead>\n",
       "  <tbody>\n",
       "    <tr>\n",
       "      <th>count</th>\n",
       "      <td>5574</td>\n",
       "      <td>5574</td>\n",
       "    </tr>\n",
       "    <tr>\n",
       "      <th>unique</th>\n",
       "      <td>2</td>\n",
       "      <td>5072</td>\n",
       "    </tr>\n",
       "    <tr>\n",
       "      <th>top</th>\n",
       "      <td>ham</td>\n",
       "      <td>Sorry, I'll call later</td>\n",
       "    </tr>\n",
       "    <tr>\n",
       "      <th>freq</th>\n",
       "      <td>4827</td>\n",
       "      <td>30</td>\n",
       "    </tr>\n",
       "  </tbody>\n",
       "</table>\n",
       "</div>"
      ]
     },
     "execution_count": 5,
     "metadata": {},
     "output_type": "execute_result"
    }
   ],
   "execution_count": 5
  },
  {
   "cell_type": "markdown",
   "metadata": {},
   "source": [
    "De data bestaat uit twee kolommen: `spam_or_ham` geeft aan of het SMS'je wel of niet spam is, en `text` geeft de concrete text van het SMS'je. Hier vormt `spam_or_ham` het label wat we straks voor training gaan gebruiken (naive bayes is dus supervised learning). \n",
    "\n",
    "Soms komen sms'jes meerdere keren voor in de dataset:"
   ]
  },
  {
   "cell_type": "code",
   "metadata": {
    "ExecuteTime": {
     "end_time": "2025-04-24T22:01:34.177080Z",
     "start_time": "2025-04-24T22:01:34.170511Z"
    }
   },
   "source": [
    "spam_sms['text'].value_counts().head(10)"
   ],
   "outputs": [
    {
     "data": {
      "text/plain": [
       "text\n",
       "Sorry, I'll call later                                          30\n",
       "I cant pick the phone right now. Pls send a message             12\n",
       "Ok...                                                           10\n",
       "URGENT! We are trying to contact U. Todays draw shows that       7\n",
       "Ur cash-balance is currently 500 pounds - to maximize ur ca      6\n",
       "PRIVATE! Your 2003 Account Statement for shows 800 un-redee      6\n",
       "URGENT! Your Mobile number has been awarded with a £2000 pr      5\n",
       "Sad story of a Man - Last week was my b'day. My Wife did'nt      5\n",
       "Beautiful Truth against Gravity.. Read carefully: \"Our heart     4\n",
       "Sunshine Quiz Wkly Q! Win a top Sony DVD player if u know w      4\n",
       "Name: count, dtype: int64"
      ]
     },
     "execution_count": 6,
     "metadata": {},
     "output_type": "execute_result"
    }
   ],
   "execution_count": 6
  },
  {
   "cell_type": "markdown",
   "metadata": {},
   "source": [
    "Zo op het eerste gezicht zijn de eerste paar een aantal berichten die mensen veel sturen. Na de top 3 lijken het voornamelijke spam sms'jes te zijn. "
   ]
  },
  {
   "cell_type": "markdown",
   "metadata": {},
   "source": [
    "# Data preparation\n",
    "De ruwe text is niet de input voor het model, we zetten deze eerst om naar een [term-document matrix](https://www.displayr.com/text-analysis-hooking-up-your-term-document-matrix-to-custom-r-code/). Deze geeft voor veel voorkomende woorden (terms) over de SMS'jes heen, per SMS'je of dit woord aanwezig is (0, 1). Deze aanpak is een voorbeeld van een [Bag-of-words](https://www.freecodecamp.org/news/an-introduction-to-bag-of-words-and-how-to-code-it-in-python-for-nlp-282e87a9da04/) aanpak: de tekst wordt een zak met woorden waar de volgorde van de woorden niet van belang is. \n",
    "\n",
    "Wij gebruiken [`CountVectorizer`](https://scikit-learn.org/stable/modules/generated/sklearn.feature_extraction.text.CountVectorizer.html) uit sklearn om dit voor ons te doen:"
   ]
  },
  {
   "cell_type": "code",
   "metadata": {
    "ExecuteTime": {
     "end_time": "2025-04-24T22:01:34.451559Z",
     "start_time": "2025-04-24T22:01:34.274796Z"
    }
   },
   "source": [
    "from sklearn.feature_extraction.text import CountVectorizer\n",
    "\n",
    "vectorizer = CountVectorizer(max_features=100, stop_words='english')\n",
    "term_document = vectorizer.fit_transform(spam_sms['text'])\n",
    "print(vectorizer.get_feature_names()) # 10 voorbeelden van woorden\n",
    "term_doc_matrix = term_document.toarray() \n",
    "term_doc_matrix"
   ],
   "outputs": [
    {
     "ename": "AttributeError",
     "evalue": "'CountVectorizer' object has no attribute 'get_feature_names'",
     "output_type": "error",
     "traceback": [
      "\u001B[31m---------------------------------------------------------------------------\u001B[39m",
      "\u001B[31mAttributeError\u001B[39m                            Traceback (most recent call last)",
      "\u001B[36mCell\u001B[39m\u001B[36m \u001B[39m\u001B[32mIn[7]\u001B[39m\u001B[32m, line 5\u001B[39m\n\u001B[32m      3\u001B[39m vectorizer = CountVectorizer(max_features=\u001B[32m100\u001B[39m, stop_words=\u001B[33m'\u001B[39m\u001B[33menglish\u001B[39m\u001B[33m'\u001B[39m)\n\u001B[32m      4\u001B[39m term_document = vectorizer.fit_transform(spam_sms[\u001B[33m'\u001B[39m\u001B[33mtext\u001B[39m\u001B[33m'\u001B[39m])\n\u001B[32m----> \u001B[39m\u001B[32m5\u001B[39m \u001B[38;5;28mprint\u001B[39m(\u001B[43mvectorizer\u001B[49m\u001B[43m.\u001B[49m\u001B[43mget_feature_names\u001B[49m()) \u001B[38;5;66;03m# 10 voorbeelden van woorden\u001B[39;00m\n\u001B[32m      6\u001B[39m term_doc_matrix = term_document.toarray() \n\u001B[32m      7\u001B[39m term_doc_matrix\n",
      "\u001B[31mAttributeError\u001B[39m: 'CountVectorizer' object has no attribute 'get_feature_names'"
     ]
    }
   ],
   "execution_count": 7
  },
  {
   "cell_type": "markdown",
   "metadata": {},
   "source": [
    "Belangrijk hier is dat we alleen de 100 meest voorkomende woorden in de term-document matrix stoppen en dat we [stopwoorden](https://www.quora.com/What-are-stop-words-in-text-analysis) verwijderen.  \n",
    "\n",
    "Om een eerste inschatting te maken van of de term-document matrix voorspellende kracht heeft maken we het volgende figuur:"
   ]
  },
  {
   "cell_type": "code",
   "execution_count": 5,
   "metadata": {},
   "outputs": [
    {
     "name": "stdout",
     "output_type": "stream",
     "text": [
      "              ok  just   ur   ll  got  know  good   lt  come   gt  ...  yup  \\\n",
      "spam_or_ham                                                        ...        \n",
      "ham          256   224  154  199  183   161   168  176   174  163  ...   41   \n",
      "spam           3    28   94    3    4    22     9    0     1    0  ...    0   \n",
      "\n",
      "             leave  cool  man  coming  nice  thk  txt  miss  meeting  \n",
      "spam_or_ham                                                           \n",
      "ham             40    38   37      39    39   39    6    38       38  \n",
      "spam             0     2    2       0     0    0   33     1        0  \n",
      "\n",
      "[2 rows x 100 columns]\n"
     ]
    },
    {
     "data": {
      "text/plain": [
       "<matplotlib.axes._subplots.AxesSubplot at 0x7fc76dea3c90>"
      ]
     },
     "execution_count": 5,
     "metadata": {},
     "output_type": "execute_result"
    },
    {
     "data": {
      "image/png": "[encoded data removed]",
      "text/plain": [
       "<Figure size 1152x72 with 2 Axes>"
      ]
     },
     "metadata": {
      "needs_background": "light"
     },
     "output_type": "display_data"
    }
   ],
   "source": [
    "feature_df = pd.concat([spam_sms['spam_or_ham'], \n",
    "                        pd.DataFrame(term_doc_matrix, \n",
    "                                     columns=vectorizer.get_feature_names())], \n",
    "                       axis=1)\n",
    "\n",
    "import seaborn as sn\n",
    "import matplotlib.pyplot as plt\n",
    "\n",
    "plt.figure(figsize=(16,1))\n",
    "summed_wordcount_per_spam_ham = feature_df.groupby('spam_or_ham').sum()  # Hoe vaak komt een woord voor in spam of ham\n",
    "summed_wordcount_all = summed_wordcount_per_spam_ham.sum().sort_values(ascending=False) # Hoe vaak komt een woord in totaal voor\n",
    "# Sorteer voorkomen spam/ham op totaal voorkomen. Dit is puur voor het plotje zodat de woorden van links naar rechts\n",
    "# van veel naar weinig voorkomend zijn. \n",
    "summed_wordcount_per_spam_ham = summed_wordcount_per_spam_ham.reindex(columns=summed_wordcount_all.index)\n",
    "print(summed_wordcount_per_spam_ham)\n",
    "sn.heatmap(summed_wordcount_per_spam_ham)"
   ]
  },
  {
   "cell_type": "markdown",
   "metadata": {},
   "source": [
    "Op de x-as zien we hier de verschillende woorden, of de y-as of het spam of ham is, en de kleur geeft het totaal aantal keer dat dit woord voorkomt. De woorden zijn gesorteerd van links (meest voorkomend woord) naar rechts (minst voorkomend woord). \n",
    "\n",
    "Uit dit figuur is duidelijk dat er:\n",
    "- Woorden zijn die veel voorkomen in `ham` messages maar niet in `spam` messages (like, time, going). \n",
    "- Woorden zijn die veel voorkomen in `spam` maar niet in `ham` messages (won, reply)\n",
    "- Er zijn veel meer `ham` specifieke woorden dan `spam` specifieke woorden\n",
    "\n",
    "Over het algemeen lijkt er wel verschil te zijn tussen spam en ham messages, wat ons positief stemt over de mogelijkheid dat Naive Bayes het verschil tussen spam en ham messages kan zien. \n",
    "\n",
    "# Modeling\n",
    "\n",
    "## Model met 100 woorden\n",
    "Nu de data klaar staat gaan we de term-document matrix gebruiken om een Naive Bayes modellen te voeden. "
   ]
  },
  {
   "cell_type": "code",
   "execution_count": 6,
   "metadata": {},
   "outputs": [
    {
     "name": "stdout",
     "output_type": "stream",
     "text": [
      "0.4309618173208557\n"
     ]
    },
    {
     "data": {
      "text/plain": [
       "<matplotlib.axes._subplots.AxesSubplot at 0x7fc768702950>"
      ]
     },
     "execution_count": 6,
     "metadata": {},
     "output_type": "execute_result"
    },
    {
     "data": {
      "image/png": "[encoded data removed]",
      "text/plain": [
       "<Figure size 432x288 with 2 Axes>"
      ]
     },
     "metadata": {
      "needs_background": "light"
     },
     "output_type": "display_data"
    }
   ],
   "source": [
    "from sklearn.naive_bayes import GaussianNB\n",
    "from sklearn.model_selection import train_test_split \n",
    "from helper_functions import plot_confusion_matrix\n",
    "from sklearn.metrics import f1_score\n",
    "\n",
    "indep_var = term_doc_matrix\n",
    "dep_var = spam_sms['spam_or_ham']\n",
    "indep_var_train, indep_var_test, dep_var_train, dep_var_test = train_test_split(indep_var, dep_var, test_size=0.3)\n",
    "\n",
    "spam_model = GaussianNB().fit(indep_var_train, dep_var_train)\n",
    "print(f1_score(dep_var_test, spam_model.predict(indep_var_test), average='macro'))\n",
    "plot_confusion_matrix(dep_var_test, spam_model.predict(indep_var_test), ['ham', 'spam'], normalize=True)"
   ]
  },
  {
   "cell_type": "markdown",
   "metadata": {},
   "source": [
    "Hier uit blijkt dat dit model:\n",
    "\n",
    "- Goed is in het detecteren van spam (99% accurate)\n",
    "- Erg veel niet-spam onterecht als spam aanduid, maar 36% van de ham wordt correct geclassificeerd.\n",
    "- Samen leidt dit tot een vrij matig model met een [f1 score](https://en.wikipedia.org/wiki/F1_score) van 0.42\n",
    "\n",
    "## Model met 1000 woorden\n",
    "Om het model beter te maken gaan we meer woorden in de term-documen matrix stoppen zodat ze mee kunnen gaan in het model:"
   ]
  },
  {
   "cell_type": "code",
   "execution_count": 7,
   "metadata": {},
   "outputs": [
    {
     "name": "stdout",
     "output_type": "stream",
     "text": [
      "0.7038825745603499\n"
     ]
    },
    {
     "data": {
      "text/plain": [
       "<matplotlib.axes._subplots.AxesSubplot at 0x7fc7685428d0>"
      ]
     },
     "execution_count": 7,
     "metadata": {},
     "output_type": "execute_result"
    },
    {
     "data": {
      "image/png": "[encoded data removed]",
      "text/plain": [
       "<Figure size 432x288 with 2 Axes>"
      ]
     },
     "metadata": {
      "needs_background": "light"
     },
     "output_type": "display_data"
    }
   ],
   "source": [
    "vectorizer = CountVectorizer(max_features=1000, stop_words='english')\n",
    "term_document = vectorizer.fit_transform(spam_sms['text'])\n",
    "term_doc_matrix = term_document.toarray() \n",
    "\n",
    "indep_var = term_document.toarray()\n",
    "dep_var = spam_sms['spam_or_ham']\n",
    "indep_var_train, indep_var_test, dep_var_train, dep_var_test = train_test_split(indep_var, dep_var, test_size=0.3)\n",
    "\n",
    "spam_model = GaussianNB().fit(indep_var_train, dep_var_train)\n",
    "print(f1_score(dep_var_test, spam_model.predict(indep_var_test), average='macro'))\n",
    "plot_confusion_matrix(dep_var_test, spam_model.predict(indep_var_test), ['ham', 'spam'], normalize=True)"
   ]
  },
  {
   "cell_type": "markdown",
   "metadata": {},
   "source": [
    "Dit model wordt al een stuk beter met een f1 score van ongeveer 0.75. Dit komt voornamelijk doordat het model beter is geworden in het correct voorspellen van `ham`: nu wordt 80% van de ham goed geclassificeerd tov 36% eerst. \n",
    "\n",
    "## Verband tussen aantal woorden en model performance\n",
    "We zien dat het ophogen van het aantal woorden van 100 naar 300 een beter resultaat oplevert. Maar waar ligt de grens? De volgende analyse verkent de performance van het model tussen de 1 en 2000 woorden:"
   ]
  },
  {
   "cell_type": "code",
   "execution_count": 8,
   "metadata": {},
   "outputs": [
    {
     "name": "stdout",
     "output_type": "stream",
     "text": [
      ".."
     ]
    },
    {
     "name": "stderr",
     "output_type": "stream",
     "text": [
      "C:\\Users\\PH0110357\\AppData\\Local\\Continuum\\anaconda3\\lib\\site-packages\\sklearn\\metrics\\classification.py:1437: UndefinedMetricWarning: F-score is ill-defined and being set to 0.0 in labels with no predicted samples.\n",
      "  'precision', 'predicted', average, warn_for)\n"
     ]
    },
    {
     "name": "stdout",
     "output_type": "stream",
     "text": [
      ".................................................................................................."
     ]
    },
    {
     "data": {
      "text/plain": [
       "<matplotlib.axes._subplots.AxesSubplot at 0x2af22ceefd0>"
      ]
     },
     "execution_count": 8,
     "metadata": {},
     "output_type": "execute_result"
    },
    {
     "data": {
      "image/png": "[encoded data removed]",
      "text/plain": [
       "<Figure size 432x288 with 1 Axes>"
      ]
     },
     "metadata": {
      "needs_background": "light"
     },
     "output_type": "display_data"
    }
   ],
   "source": [
    "def get_accuracy_per_max_feature(max_feature, print_confusion=False):\n",
    "    print('.', end='')\n",
    "    vectorizer = CountVectorizer(max_features=max_feature, stop_words='english')\n",
    "    res = vectorizer.fit_transform(spam_sms['text'])\n",
    "    \n",
    "    indep_var = res.toarray()\n",
    "    dep_var = spam_sms['spam_or_ham']\n",
    "    indep_var_train, indep_var_test, dep_var_train, dep_var_test = train_test_split(indep_var, dep_var, test_size=0.3)\n",
    "    spam_model = GaussianNB().fit(indep_var_train, dep_var_train)\n",
    "    if print_confusion:\n",
    "        plot_confusion_matrix(dep_var_test, spam_model.predict(indep_var_test), ['ham', 'spam'], normalize=True)\n",
    "    return f1_score(dep_var_test, spam_model.predict(indep_var_test), average='macro')\n",
    "\n",
    "test_max_features = np.arange(1,2000,20)\n",
    "pd.Series([get_accuracy_per_max_feature(mxft) for mxft in test_max_features], index=test_max_features).plot()"
   ]
  },
  {
   "cell_type": "markdown",
   "metadata": {},
   "source": [
    "Hieruit blijkt duidelijk dat de performance langzamerhand beter wordt tussen de 1 en 2000 woorden. Wel vlakt de performance af rond de f1 score van 0.8. De optimale hoeveelheid woorden lijkt rond de 1750 te liggen. \n",
    "\n",
    "Als we kijken naar de confusion matrix van 1750 woorden:"
   ]
  },
  {
   "cell_type": "code",
   "execution_count": 9,
   "metadata": {},
   "outputs": [
    {
     "name": "stdout",
     "output_type": "stream",
     "text": [
      "."
     ]
    },
    {
     "data": {
      "text/plain": [
       "0.7795191987308597"
      ]
     },
     "execution_count": 9,
     "metadata": {},
     "output_type": "execute_result"
    },
    {
     "data": {
      "image/png": "[encoded data removed]",
      "text/plain": [
       "<Figure size 432x288 with 2 Axes>"
      ]
     },
     "metadata": {
      "needs_background": "light"
     },
     "output_type": "display_data"
    }
   ],
   "source": [
    "get_accuracy_per_max_feature(1750, print_confusion=True)"
   ]
  },
  {
   "cell_type": "markdown",
   "metadata": {},
   "source": [
    "Zien dat we het overall veel beter doen dan het 300 woorden document. Deze verbetering zit hem voornamelijk in dat we beter zijn geworden in het onderscheiden van wat normale mail is, hier is de score verbeterd van ong 40% naar rond de 10%. Wel hebben we hiervoor een prijs betaald: het aantal keer dat we onterecht iets als ham aanduiden is veel hoger geworden (5-16%). \n",
    "\n",
    "# Evaluation\n",
    "Het model wat we gebouwt hebben is een mooie eerste opzet voor een spam model. Wel zal het model nog veel beter moeten gaan presteren voordat het echt nuttig wordt. Op dit moment wordt nog rond de 20% van de mails fout geclassificeerd, zowel onterecht spam als onterecht ham. Nog meer en slimmere features bouwen zal ons deze performance moeten opleveren, bijvoorbeeld:\n",
    "\n",
    "- lengte van de SMS\n",
    "- Voorkomen van letters\n",
    "- [Andere maten](https://scikit-learn.org/stable/modules/generated/sklearn.feature_extraction.text.TfidfVectorizer.html) gebruiken die zich meer richten op woorden die veel voorspellend vermogen hebben \n",
    "- [Features bouwen](http://nadbordrozd.github.io/blog/2016/05/20/text-classification-with-word2vec/) die niet alleen naar het voorkomen van woorden kijken, maar ook naar de volgorde en context van de woorden. "
   ]
  }
 ],
 "metadata": {
  "kernelspec": {
   "display_name": "Python 3",
   "language": "python",
   "name": "python3"
  },
  "language_info": {
   "codemirror_mode": {
    "name": "ipython",
    "version": 3
   },
   "file_extension": ".py",
   "mimetype": "text/x-python",
   "name": "python",
   "nbconvert_exporter": "python",
   "pygments_lexer": "ipython3",
   "version": "3.6.7"
  }
 },
 "nbformat": 4,
 "nbformat_minor": 4
}
