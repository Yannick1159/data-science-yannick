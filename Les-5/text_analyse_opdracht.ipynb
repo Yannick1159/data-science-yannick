{
 "cells": [
  {
   "cell_type": "markdown",
   "metadata": {},
   "source": [
    "### Leerdoelen\n",
    "- Je leert hoe je fixed-width data inleest\n",
    "- Je leert een Business Understanding te formuleren bij een opdrachtgever en een gegeven dataset. \n",
    "- Je leert hoe je met naive bayes classificatie kan doen op een dataset\n",
    "- Je leert hoe je tekst data kan voorbewerken via een Bag-of-Words aanpak voordat je het met naive bayes gebruikt\n",
    "- Je leert figuren in je Data Understanding goed in context uit te leggen\n",
    "- Je leert je conslusies uit het Data Understanding te verbinden aan de uitkomst van je Naive Bayes classifier\n",
    "- Je leert een keuze tussen naive bayes modellen van toenemende complexiteit\n",
    "\n",
    "### Achtergrondinformatie:\n",
    "- Google naar:\n",
    "    - `python naive bayes`\n",
    "    - `python pandas read fixed width format`\n",
    "    - `python naive bayes text classification`\n",
    "    - `python sklearn generate word counts`\n",
    "    - `python sklearn CountVectorizer`\n",
    "    - `python bag of words`\n",
    "- Datacamp course `Machine Learning with Tree-Based Models in Python` -> `Classification and Regression Trees`\n",
    "\n",
    "### Opdracht \n",
    "- Vul het onderstaande notebook aan op de gevraagde plekken. \n",
    "\n",
    "# Business Understanding\n",
    "**Vul hier aan: we gaan in de opdracht een spamfilter bouwen. Schrijf hier een business understanding waarin je uitwerkt waarom hier een business case achter zit. Gebruik minstens 1 extra bron of link om je verhaal te ondersteunen.**\n",
    "\n",
    "# Data Understanding\n",
    "Wij gaan ons spamfilter trainen op [een set aan SMS'jes](http://www.dt.fee.unicamp.br/~tiago/smsspamcollection/), welke aangeleverd werd als een fixed-width data file:"
   ]
  },
  {
   "cell_type": "code",
   "metadata": {
    "ExecuteTime": {
     "end_time": "2025-04-24T22:00:42.062306Z",
     "start_time": "2025-04-24T22:00:42.059303Z"
    }
   },
   "source": [
    "# Lees het fixed-width tekst bestand met de sms'jes in"
   ],
   "outputs": [],
   "execution_count": 1
  },
  {
   "cell_type": "markdown",
   "metadata": {},
   "source": [
    "**Vul hier aan: werk de Data Understanding verder uit. Geef een overzicht van de data en eerste orde opvallende zaken.**\n",
    "\n",
    "# Data preparation\n",
    "De ruwe text is niet de input voor het model, we zetten deze eerst om naar een [term-document matrix](https://www.displayr.com/text-analysis-hooking-up-your-term-document-matrix-to-custom-r-code/). Deze geeft voor veel voorkomende woorden (terms) over de SMS'jes heen, per SMS'je of dit woord aanwezig is (0, 1). Deze aanpak is een voorbeeld van een [Bag-of-words](https://www.freecodecamp.org/news/an-introduction-to-bag-of-words-and-how-to-code-it-in-python-for-nlp-282e87a9da04/) aanpak: de tekst wordt een zak met woorden waar de volgorde van de woorden niet van belang is. \n",
    "\n",
    "Wij gebruiken [`CountVectorizer`](https://scikit-learn.org/stable/modules/generated/sklearn.feature_extraction.text.CountVectorizer.html) uit sklearn om dit voor ons te doen. Belangrijk hier is dat we alleen de 100 meest voorkomende woorden in de term-document matrix stoppen en dat we [stopwoorden](https://www.quora.com/What-are-stop-words-in-text-analysis) verwijderen. "
   ]
  },
  {
   "cell_type": "code",
   "metadata": {
    "ExecuteTime": {
     "end_time": "2025-04-24T22:00:42.070132Z",
     "start_time": "2025-04-24T22:00:42.067823Z"
    }
   },
   "source": [
    "# Fit een transformatie met behulp van CountVectorizer (zie ook fit_transform)\n",
    "# op de sms teksten. Gebruik de 100 meest voorkomende woorden en laat engelse\n",
    "# stopwoorden weg"
   ],
   "outputs": [],
   "execution_count": 2
  },
  {
   "cell_type": "code",
   "metadata": {
    "ExecuteTime": {
     "end_time": "2025-04-24T22:00:42.076519Z",
     "start_time": "2025-04-24T22:00:42.072135Z"
    }
   },
   "source": [
    "# Laat de 100 woorden zien die in de transformatie meegenomen zijn"
   ],
   "outputs": [],
   "execution_count": 3
  },
  {
   "cell_type": "code",
   "metadata": {
    "ExecuteTime": {
     "end_time": "2025-04-24T22:00:42.082759Z",
     "start_time": "2025-04-24T22:00:42.078523Z"
    }
   },
   "source": [
    "# Bouw hier een term-document matrix op basis van de uitkomst van CountVectorizer"
   ],
   "outputs": [],
   "execution_count": 4
  },
  {
   "cell_type": "markdown",
   "metadata": {},
   "source": [
    "Om een eerste inschatting te maken van of de term-document matrix voorspellende kracht heeft maken we het volgende figuur:"
   ]
  },
  {
   "cell_type": "code",
   "metadata": {
    "ExecuteTime": {
     "end_time": "2025-04-24T22:00:42.564966Z",
     "start_time": "2025-04-24T22:00:42.302136Z"
    }
   },
   "source": [
    "feature_df = pd.concat([spam_sms['spam_or_ham'], \n",
    "                        pd.DataFrame(term_doc_matrix, \n",
    "                                     columns=vectorizer.get_feature_names())], \n",
    "                       axis=1)\n",
    "\n",
    "import seaborn as sn\n",
    "import matplotlib.pyplot as plt\n",
    "\n",
    "plt.figure(figsize=(16,1))\n",
    "summed_wordcount_per_spam_ham = feature_df.groupby('spam_or_ham').sum()\n",
    "summed_wordcount_all = summed_wordcount_per_spam_ham.sum().sort_values(ascending=False)\n",
    "summed_wordcount_per_spam_ham = summed_wordcount_per_spam_ham.reindex(columns=summed_wordcount_all.index)\n",
    "print(summed_wordcount_per_spam_ham)\n",
    "sn.heatmap(summed_wordcount_per_spam_ham)"
   ],
   "outputs": [
    {
     "ename": "NameError",
     "evalue": "name 'pd' is not defined",
     "output_type": "error",
     "traceback": [
      "\u001B[31m---------------------------------------------------------------------------\u001B[39m",
      "\u001B[31mNameError\u001B[39m                                 Traceback (most recent call last)",
      "\u001B[36mCell\u001B[39m\u001B[36m \u001B[39m\u001B[32mIn[5]\u001B[39m\u001B[32m, line 1\u001B[39m\n\u001B[32m----> \u001B[39m\u001B[32m1\u001B[39m feature_df = \u001B[43mpd\u001B[49m.concat([spam_sms[\u001B[33m'\u001B[39m\u001B[33mspam_or_ham\u001B[39m\u001B[33m'\u001B[39m], \n\u001B[32m      2\u001B[39m                         pd.DataFrame(term_doc_matrix, \n\u001B[32m      3\u001B[39m                                      columns=vectorizer.get_feature_names())], \n\u001B[32m      4\u001B[39m                        axis=\u001B[32m1\u001B[39m)\n\u001B[32m      6\u001B[39m \u001B[38;5;28;01mimport\u001B[39;00m\u001B[38;5;250m \u001B[39m\u001B[34;01mseaborn\u001B[39;00m\u001B[38;5;250m \u001B[39m\u001B[38;5;28;01mas\u001B[39;00m\u001B[38;5;250m \u001B[39m\u001B[34;01msn\u001B[39;00m\n\u001B[32m      7\u001B[39m \u001B[38;5;28;01mimport\u001B[39;00m\u001B[38;5;250m \u001B[39m\u001B[34;01mmatplotlib\u001B[39;00m\u001B[34;01m.\u001B[39;00m\u001B[34;01mpyplot\u001B[39;00m\u001B[38;5;250m \u001B[39m\u001B[38;5;28;01mas\u001B[39;00m\u001B[38;5;250m \u001B[39m\u001B[34;01mplt\u001B[39;00m\n",
      "\u001B[31mNameError\u001B[39m: name 'pd' is not defined"
     ]
    }
   ],
   "execution_count": 5
  },
  {
   "cell_type": "markdown",
   "metadata": {},
   "source": [
    "**OPDRACHT!: Leg aan elkaar uit wat in de code gebeurt**\n",
    "\n",
    "**Vul hier aan: wat zie je in dit figuur, wat valt je op? Wat is je inschatting: gaat een bag-of-words aanpak hier een goed onderscheid tussen `spam` en `ham` opleveren?**\n",
    "\n",
    "# Modeling\n",
    "**We gaan nu twee modellen maken: eentje met de top 100 woorden en eentje met de top 1000 woorden**\n",
    "## Model met 100 woorden\n",
    "Nu de data klaar staat gaan we de term-document matrix gebruiken om een Naive Bayes modellen te voeden. "
   ]
  },
  {
   "cell_type": "code",
   "execution_count": null,
   "metadata": {},
   "outputs": [],
   "source": [
    "# Fit hier een Naive Bayes model op basis van de term-document matrix die je eerder \n",
    "# gemaakt hebt (top 100 woorden). Voor Naive Bayes gebruiken we de `GaussianNB` functie\n",
    "# uit sklearn. Vergeet niet om je dataset te splitsen in training en test.\n",
    "# \n",
    "# Gebruik voor het inschatten van de performance vna het model de f1 score (functie f1_score)\n",
    "# en de plot_confusion_matrix functie die je vorige week ook gebruikt hebt. "
   ]
  },
  {
   "cell_type": "markdown",
   "metadata": {},
   "source": [
    "**Vul hier aan: wat zie je in de performance van het model? Is dit een goed model? Waarin is het goed, waarin is het slecht?**\n",
    "\n",
    "## Model met 1000 woorden\n",
    "Om het model beter te maken gaan we meer woorden in de term-documen matrix stoppen zodat ze mee kunnen gaan in het model:"
   ]
  },
  {
   "cell_type": "code",
   "execution_count": null,
   "metadata": {},
   "outputs": [],
   "source": [
    "# Maak een nieuwe term-document matrix, maar nu met de top 1000 woorden. Fit nu ook\n",
    "# weer het model en laat de performance zien. "
   ]
  },
  {
   "cell_type": "markdown",
   "metadata": {},
   "source": [
    "**Vul hier aan: wat is je conclusie, is dit model beter hoe is het beter en slechter als je kijkt naar je confusion matrix**\n",
    "\n",
    "## (*optioneel*) Verband tussen aantal woorden en model performance\n",
    "We zien dat het ophogen van het aantal woorden van 100 naar 300 een beter resultaat oplevert. Maar waar ligt de grens? De volgende analyse verkent de performance van het model tussen de 1 en 2000 woorden:"
   ]
  },
  {
   "cell_type": "code",
   "execution_count": 8,
   "metadata": {},
   "outputs": [
    {
     "name": "stdout",
     "output_type": "stream",
     "text": [
      ".."
     ]
    },
    {
     "name": "stderr",
     "output_type": "stream",
     "text": [
      "C:\\Users\\PH0110357\\AppData\\Local\\Continuum\\anaconda3\\lib\\site-packages\\sklearn\\metrics\\classification.py:1437: UndefinedMetricWarning: F-score is ill-defined and being set to 0.0 in labels with no predicted samples.\n",
      "  'precision', 'predicted', average, warn_for)\n"
     ]
    },
    {
     "name": "stdout",
     "output_type": "stream",
     "text": [
      ".................................................................................................."
     ]
    },
    {
     "data": {
      "text/plain": [
       "<matplotlib.axes._subplots.AxesSubplot at 0x2af22ceefd0>"
      ]
     },
     "execution_count": 8,
     "metadata": {},
     "output_type": "execute_result"
    },
    {
     "data": {
      "image/png": "[encoded data removed]",
      "text/plain": [
       "<Figure size 432x288 with 1 Axes>"
      ]
     },
     "metadata": {
      "needs_background": "light"
     },
     "output_type": "display_data"
    }
   ],
   "source": [
    "# schrijf de get_accuracy_per_max_feature functie die hieronder gebruikt wordt\n",
    "# de functie neemt als input het maximaal aantal woorden wat meergenomen moet worden\n",
    "# de functie geeft de f1_score terug\n",
    "\n",
    "test_max_features = np.arange(1,2000,20)\n",
    "pd.Series([get_accuracy_per_max_feature(mxft) for mxft in test_max_features], index=test_max_features).plot()"
   ]
  },
  {
   "cell_type": "markdown",
   "metadata": {},
   "source": [
    "**Vul hier aan: wat is conclusie: hoeveel woorden moeten er in je term-document matrix?**\n",
    "\n",
    "Als we kijken naar de confusion matrix van 1750 woorden:"
   ]
  },
  {
   "cell_type": "code",
   "execution_count": 9,
   "metadata": {},
   "outputs": [
    {
     "name": "stdout",
     "output_type": "stream",
     "text": [
      "."
     ]
    },
    {
     "data": {
      "text/plain": [
       "0.7795191987308597"
      ]
     },
     "execution_count": 9,
     "metadata": {},
     "output_type": "execute_result"
    },
    {
     "data": {
      "image/png": "[encoded data removed]",
      "text/plain": [
       "<Figure size 432x288 with 2 Axes>"
      ]
     },
     "metadata": {
      "needs_background": "light"
     },
     "output_type": "display_data"
    }
   ],
   "source": [
    "# Maak een confusion matrix voor de optimale hoeveelheid woorden. \n",
    "# Probeer hier de functie in te zetten of uit te breiden die je eerder gemaakt hebt. "
   ]
  },
  {
   "cell_type": "markdown",
   "metadata": {},
   "source": [
    "**Vul hier aan: voor het optimale hoeveelheid woorden, hoe goed is je model nu?**\n",
    "\n",
    "# Evaluation\n",
    "**Vul hier aan: wat vind je van je spam filter? Slaagt het in het doel wat je ervoor gesteld hebt? Zou jij hier mee kunnen werken?**\n",
    "\n",
    "*Optioneel* **Vul hier aan: hoe zouden we ons model nog verder kunnen verbeteren?**"
   ]
  }
 ],
 "metadata": {
  "kernelspec": {
   "display_name": "Python 3",
   "language": "python",
   "name": "python3"
  },
  "language_info": {
   "codemirror_mode": {
    "name": "ipython",
    "version": 3
   },
   "file_extension": ".py",
   "mimetype": "text/x-python",
   "name": "python",
   "nbconvert_exporter": "python",
   "pygments_lexer": "ipython3",
   "version": "3.6.7"
  }
 },
 "nbformat": 4,
 "nbformat_minor": 4
}
